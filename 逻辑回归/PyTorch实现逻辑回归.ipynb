{
 "cells": [
  {
   "cell_type": "code",
   "execution_count": 1,
   "id": "2851668e",
   "metadata": {},
   "outputs": [],
   "source": [
    "import torch\n",
    "x_data = torch.tensor([[1.0],[2.0],[3.0]], dtype=torch.float)\n",
    "y_data = torch.tensor([[0], [0], [1]], dtype=torch.float)"
   ]
  },
  {
   "cell_type": "code",
   "execution_count": 2,
   "id": "c6b4cd60",
   "metadata": {},
   "outputs": [],
   "source": [
    "class LogisticRegressionModel(torch.nn.Module):\n",
    "    def __init__(self):\n",
    "        super(LogisticRegressionModel, self).__init__()\n",
    "        self.linear = torch.nn.Linear(1, 1)\n",
    "    \n",
    "    def forward(self, x):\n",
    "        y_pred = torch.sigmoid(self.linear(x))\n",
    "        return y_pred\n",
    "model = LogisticRegressionModel()"
   ]
  },
  {
   "cell_type": "code",
   "execution_count": 3,
   "id": "be2c1fa2",
   "metadata": {},
   "outputs": [],
   "source": [
    "criterion = torch.nn.BCELoss()\n",
    "optimizer = torch.optim.SGD(model.parameters(), lr=0.03)"
   ]
  },
  {
   "cell_type": "code",
   "execution_count": 4,
   "id": "4389548f",
   "metadata": {},
   "outputs": [
    {
     "name": "stdout",
     "output_type": "stream",
     "text": [
      "0 0.7449240684509277\n",
      "1 0.7347410321235657\n",
      "2 0.7251405715942383\n",
      "3 0.7160985469818115\n",
      "4 0.7075912952423096\n",
      "5 0.6995941996574402\n",
      "6 0.6920831203460693\n",
      "7 0.6850337982177734\n",
      "8 0.678422212600708\n",
      "9 0.6722249388694763\n",
      "10 0.6664188504219055\n",
      "11 0.6609817147254944\n",
      "12 0.6558914184570312\n",
      "13 0.6511273384094238\n",
      "14 0.6466690897941589\n",
      "15 0.6424971222877502\n",
      "16 0.6385931968688965\n",
      "17 0.6349396109580994\n",
      "18 0.6315194964408875\n",
      "19 0.6283170580863953\n",
      "20 0.6253171563148499\n",
      "21 0.6225059032440186\n",
      "22 0.6198698878288269\n",
      "23 0.6173964142799377\n",
      "24 0.6150738596916199\n",
      "25 0.6128913760185242\n",
      "26 0.6108385324478149\n",
      "27 0.6089056730270386\n",
      "28 0.6070840358734131\n",
      "29 0.6053653359413147\n",
      "30 0.6037417054176331\n",
      "31 0.6022059321403503\n",
      "32 0.6007513403892517\n",
      "33 0.5993718504905701\n",
      "34 0.5980616211891174\n",
      "35 0.5968154072761536\n",
      "36 0.5956282615661621\n",
      "37 0.5944955945014954\n",
      "38 0.5934131741523743\n",
      "39 0.592377245426178\n",
      "40 0.5913840532302856\n",
      "41 0.5904304385185242\n",
      "42 0.5895132422447205\n",
      "43 0.5886295437812805\n",
      "44 0.5877769589424133\n",
      "45 0.5869529843330383\n",
      "46 0.5861554741859436\n",
      "47 0.5853821635246277\n",
      "48 0.5846313834190369\n",
      "49 0.5839013457298279\n",
      "50 0.5831905007362366\n",
      "51 0.582497239112854\n",
      "52 0.5818203091621399\n",
      "53 0.5811585783958435\n",
      "54 0.5805107951164246\n",
      "55 0.5798757672309875\n",
      "56 0.5792527794837952\n",
      "57 0.5786407589912415\n",
      "58 0.5780389904975891\n",
      "59 0.5774466395378113\n",
      "60 0.5768631100654602\n",
      "61 0.5762876272201538\n",
      "62 0.5757196545600891\n",
      "63 0.5751587748527527\n",
      "64 0.5746042728424072\n",
      "65 0.5740558505058289\n",
      "66 0.5735130906105042\n",
      "67 0.5729754567146301\n",
      "68 0.5724427103996277\n",
      "69 0.571914553642273\n",
      "70 0.5713905692100525\n",
      "71 0.5708706974983215\n",
      "72 0.5703544020652771\n",
      "73 0.5698416233062744\n",
      "74 0.5693321228027344\n",
      "75 0.5688256621360779\n",
      "76 0.5683221220970154\n",
      "77 0.567821204662323\n",
      "78 0.5673229694366455\n",
      "79 0.566827118396759\n",
      "80 0.5663334727287292\n",
      "81 0.5658419728279114\n",
      "82 0.5653526782989502\n",
      "83 0.564865231513977\n",
      "84 0.5643796920776367\n",
      "85 0.5638958811759949\n",
      "86 0.5634137988090515\n",
      "87 0.5629332661628723\n",
      "88 0.5624542832374573\n",
      "89 0.5619769096374512\n",
      "90 0.5615009069442749\n",
      "91 0.5610263347625732\n",
      "92 0.5605530142784119\n",
      "93 0.5600810050964355\n",
      "94 0.5596102476119995\n",
      "95 0.5591407418251038\n",
      "96 0.5586723685264587\n",
      "97 0.5582050681114197\n",
      "98 0.5577389597892761\n",
      "99 0.5572739243507385\n"
     ]
    }
   ],
   "source": [
    "for epoch in range(100):\n",
    "    y_pred = model(x_data)\n",
    "    loss = criterion(y_pred, y_data)\n",
    "    print(epoch, loss.item())\n",
    "    \n",
    "    optimizer.zero_grad()\n",
    "    loss.backward()\n",
    "    optimizer.step()"
   ]
  },
  {
   "cell_type": "code",
   "execution_count": 5,
   "id": "cea481ee",
   "metadata": {},
   "outputs": [
    {
     "ename": "AttributeError",
     "evalue": "module 'matplotlib.pyplot' has no attribute 'tlabel'",
     "output_type": "error",
     "traceback": [
      "\u001b[0;31m---------------------------------------------------------------------------\u001b[0m",
      "\u001b[0;31mAttributeError\u001b[0m                            Traceback (most recent call last)",
      "\u001b[0;32m<ipython-input-5-2d81ee815832>\u001b[0m in \u001b[0;36m<module>\u001b[0;34m\u001b[0m\n\u001b[1;32m      8\u001b[0m \u001b[0mplt\u001b[0m\u001b[0;34m.\u001b[0m\u001b[0mplot\u001b[0m\u001b[0;34m(\u001b[0m\u001b[0;34m[\u001b[0m\u001b[0;36m0\u001b[0m\u001b[0;34m,\u001b[0m \u001b[0;36m10\u001b[0m\u001b[0;34m]\u001b[0m\u001b[0;34m,\u001b[0m \u001b[0;34m[\u001b[0m\u001b[0;36m0.5\u001b[0m\u001b[0;34m,\u001b[0m \u001b[0;36m0.5\u001b[0m\u001b[0;34m]\u001b[0m\u001b[0;34m,\u001b[0m \u001b[0mc\u001b[0m\u001b[0;34m=\u001b[0m\u001b[0;34m'r'\u001b[0m\u001b[0;34m)\u001b[0m\u001b[0;34m\u001b[0m\u001b[0;34m\u001b[0m\u001b[0m\n\u001b[1;32m      9\u001b[0m \u001b[0mplt\u001b[0m\u001b[0;34m.\u001b[0m\u001b[0mxlabel\u001b[0m\u001b[0;34m(\u001b[0m\u001b[0;34m'小时'\u001b[0m\u001b[0;34m)\u001b[0m\u001b[0;34m\u001b[0m\u001b[0;34m\u001b[0m\u001b[0m\n\u001b[0;32m---> 10\u001b[0;31m \u001b[0mplt\u001b[0m\u001b[0;34m.\u001b[0m\u001b[0mtlabel\u001b[0m\u001b[0;34m(\u001b[0m\u001b[0;34m'通过的概率'\u001b[0m\u001b[0;34m)\u001b[0m\u001b[0;34m\u001b[0m\u001b[0;34m\u001b[0m\u001b[0m\n\u001b[0m\u001b[1;32m     11\u001b[0m \u001b[0mplt\u001b[0m\u001b[0;34m.\u001b[0m\u001b[0mgrid\u001b[0m\u001b[0;34m(\u001b[0m\u001b[0;34m)\u001b[0m\u001b[0;34m\u001b[0m\u001b[0;34m\u001b[0m\u001b[0m\n\u001b[1;32m     12\u001b[0m \u001b[0mplt\u001b[0m\u001b[0;34m.\u001b[0m\u001b[0mshow\u001b[0m\u001b[0;34m(\u001b[0m\u001b[0;34m)\u001b[0m\u001b[0;34m\u001b[0m\u001b[0;34m\u001b[0m\u001b[0m\n",
      "\u001b[0;31mAttributeError\u001b[0m: module 'matplotlib.pyplot' has no attribute 'tlabel'"
     ]
    },
    {
     "name": "stderr",
     "output_type": "stream",
     "text": [
      "/opt/anaconda3/envs/d2l-zh/lib/python3.8/site-packages/matplotlib/backends/backend_agg.py:240: RuntimeWarning: Glyph 23567 missing from current font.\n",
      "  font.set_text(s, 0.0, flags=flags)\n",
      "/opt/anaconda3/envs/d2l-zh/lib/python3.8/site-packages/matplotlib/backends/backend_agg.py:240: RuntimeWarning: Glyph 26102 missing from current font.\n",
      "  font.set_text(s, 0.0, flags=flags)\n",
      "/opt/anaconda3/envs/d2l-zh/lib/python3.8/site-packages/matplotlib/backends/backend_agg.py:203: RuntimeWarning: Glyph 23567 missing from current font.\n",
      "  font.set_text(s, 0, flags=flags)\n",
      "/opt/anaconda3/envs/d2l-zh/lib/python3.8/site-packages/matplotlib/backends/backend_agg.py:203: RuntimeWarning: Glyph 26102 missing from current font.\n",
      "  font.set_text(s, 0, flags=flags)\n"
     ]
    },
    {
     "data": {
      "image/png": "[encoded data removed]",
      "text/plain": [
       "<Figure size 432x288 with 1 Axes>"
      ]
     },
     "metadata": {
      "needs_background": "light"
     },
     "output_type": "display_data"
    }
   ],
   "source": [
    "import numpy as np\n",
    "import matplotlib.pyplot as plt\n",
    "x = np.linspace(0, 10, 200)\n",
    "x_t = torch.Tensor(x).view((200, 1))\n",
    "y_t = model(x_t)\n",
    "y = y_t.data.numpy()\n",
    "plt.plot(x, y)\n",
    "plt.plot([0, 10], [0.5, 0.5], c='r')\n",
    "plt.xlabel('小时')\n",
    "plt.tlabel('通过的概率')\n",
    "plt.grid()\n",
    "plt.show()"
   ]
  },
  {
   "cell_type": "code",
   "execution_count": null,
   "id": "d0d902bc",
   "metadata": {},
   "outputs": [],
   "source": []
  }
 ],
 "metadata": {
  "kernelspec": {
   "display_name": "Python 3",
   "language": "python",
   "name": "python3"
  },
  "language_info": {
   "codemirror_mode": {
    "name": "ipython",
    "version": 3
   },
   "file_extension": ".py",
   "mimetype": "text/x-python",
   "name": "python",
   "nbconvert_exporter": "python",
   "pygments_lexer": "ipython3",
   "version": "3.8.8"
  }
 },
 "nbformat": 4,
 "nbformat_minor": 5
}
